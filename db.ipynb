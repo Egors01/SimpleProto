{
 "cells": [
  {
   "cell_type": "code",
   "execution_count": 7,
   "metadata": {},
   "outputs": [],
   "source": [
    "attribute_names = ['name',\n",
    "                 'latin_name',\n",
    "                 'is_tree',\n",
    "                 'is_grass',\n",
    "                 'is_creeper',\n",
    "                 'is_swamp_plant',\n",
    "                 'has_flowers',\n",
    "                 'has_single_flowers',\n",
    "                 'has_florets',\n",
    "                 'flowers_blue',\n",
    "                 'flowers_red',\n",
    "                 'flowers_yellow',\n",
    "                 'flowers_white',\n",
    "                 'other_colour',\n",
    "                 'stem_smooth',\n",
    "                 'stem_rough',\n",
    "                 'is_creeping',\n",
    "                 'is_short',\n",
    "                 'is_medium_tall',\n",
    "                 'is_tall',\n",
    "                 'smells_good',\n",
    "                 'smells_bad',\n",
    "                 'smells_mildly',\n",
    "                 'leaves_whole',\n",
    "                 'leaves_lobed',\n",
    "                 'leaves_divided',\n",
    "                 'leaves_dissected',\n",
    "                 'leaves_margins_entire',\n",
    "                 'leaves_margins_serrate',\n",
    "                 'leaves_margins_undulate',\n",
    "                 'leaves_margins_lobed',\n",
    "                 'venation_parallel',\n",
    "                 'venation_palmated',\n",
    "                 'venation_pinnately_net',\n",
    "                 'stem_opposite',\n",
    "                 'stem_alternate',\n",
    "                 'stem_whorled'\n",
    "                 'no_stem_arrangement',\n",
    "                 'is_invasive',\n",
    "                 'is_eu_invasive',\n",
    "                 'image_link',\n",
    "                 'description']"
   ]
  },
  {
   "cell_type": "code",
   "execution_count": null,
   "metadata": {},
   "outputs": [],
   "source": [
    "class plant:\n",
    "    name=''\n",
    "    latin_name=''\n",
    "    image_link=''\n",
    "    description=''\n",
    "    is_tree=0\n",
    "    is_grass=0\n",
    "    is_creeper=0\n",
    "    is_swamp_plant=0\n",
    "    has_flowers=0\n",
    "    has_single_flowers=0\n",
    "    has_florets=0\n",
    "    flowers_blue=0\n",
    "    flowers_red=0\n",
    "    flowers_yellow=0\n",
    "    flowers_white=0\n",
    "    other_colour=0\n",
    "    stem_smooth=0\n",
    "    stem_rough=0\n",
    "    is_creeping=0\n",
    "    is_short=0\n",
    "    is_medium_tall=0\n",
    "    is_tall=0\n",
    "    smells_good=0\n",
    "    smells_bad=0\n",
    "    smells_mildly=0\n",
    "    leaves_whole=0\n",
    "    leaves_lobed=0\n",
    "    leaves_divided=0\n",
    "    leaves_dissected=0\n",
    "    leaves_margins_entire=0\n",
    "    leaves_margins_serrate=0\n",
    "    leaves_margins_undulate=0\n",
    "    leaves_margins_lobed=0\n",
    "    venation_parallel=0\n",
    "    venation_palmated=0\n",
    "    venation_pinnately_net=0\n",
    "    stem_opposite=0\n",
    "    stem_alternate=0\n",
    "    stem_whorled=0\n",
    "    no_stem_arrangement=0\n",
    "    is_invasive=0\n",
    "    is_eu_invasive=0\n",
    "    def __init__(self, **kwargs):\n",
    "        for k in kwargs.keys():\n",
    "            if k in attribute_names:\n",
    "                 self.__setattr__(k, kwargs[k])\n",
    "    "
   ]
  },
  {
   "cell_type": "code",
   "execution_count": 6,
   "metadata": {},
   "outputs": [],
   "source": [
    "class questions:\n",
    "    attribute=''\n",
    "    text=''\n",
    "    image_link=''\n",
    "    def __init__(self, **kwargs):\n",
    "        for k in kwargs.keys():\n",
    "            if k in attribute_names:\n",
    "                 self.__setattr__(k, kwargs[k])"
   ]
  },
  {
   "cell_type": "code",
   "execution_count": null,
   "metadata": {},
   "outputs": [],
   "source": [
    "is_tree=questions(attribute = 'is_tree', text = 'Is this plant a tree/bush?')\n",
    "is_grass=questions(attribute = 'is_grass', text = 'Is this plant a grass/herb?')\n",
    "is_creeper=questions(attribute = 'is_creeper', text = 'Is this plant a creeper?')\n",
    "is_swamp_plant=questions(attribute = 'is_swamp_plant', text = 'Is this a swamp or water plant?')\n",
    "has_flowers=questions(attribute = 'has_flowers', text = 'Does this plant have visible blossoms or flowers?')\n",
    "has_single_flowers=questions(attribute = 'has_single_flowers', text = 'Does it have single flowers?')\n",
    "has_florets=questions(attribute = 'has_florets', text = 'Does it have floret flowers?')\n",
    "flowers_blue=questions(attribute = 'flowers_blue', text = 'Are the flowers blue?')\n",
    "flowers_red=questions(attribute = 'flowers_red', text = 'Are the flowers pink or red?')\n",
    "flowers_yellow=questions(attribute = 'flowers_yellow', text = 'Are the flowers yellow?')\n",
    "flowers_white=questions(attribute = 'flowers_white', text = 'Are the flowers white?')\n",
    "other_colour=questions(attribute = 'other_colour', text = 'Are the flowers of a different colour?')\n",
    "stem_smooth=questions(attribute = 'stem_smooth', text = 'Is the plant\\'s stem smooth?')\n",
    "stem_rough=questions(attribute = 'stem_rough', text = 'Is the plant\\'s stem rough?')\n",
    "is_creeping=questions(attribute = 'is_creeping', text = 'Does this plant grows close to land, i.e. horizontally on the surface?')\n",
    "is_short=questions(attribute = 'is_short', text = 'Is this plant less than 0.5m tall?')\n",
    "is_medium_tall=questions(attribute = 'is_medium_tall', text = 'Is this plant 0.5-1m tall?')\n",
    "is_tall=questions(attribute = 'is_tall', text = 'Is this plant taller than 1m?')\n",
    "smells_good=questions(attribute = 'smells_good', text = 'Does it have a strong pleasant smell?')\n",
    "smells_bad=questions(attribute = 'smells_bad', text = 'Does it have a strong unpleasant smell?')\n",
    "smells_mildly=questions(attribute = 'smells_mildly', text = 'Does it smell mildly?')\n",
    "leaves_whole=questions(attribute = 'leaves_whole', text = 'Is the leaf structure whole?')\n",
    "leaves_lobed=questions(attribute = 'leaves_lobed', text = 'Are the leaves lobed?')\n",
    "leaves_divided=questions(attribute = 'leaves_divided', text = 'Are the leaves divided?')\n",
    "leaves_dissected=questions(attribute = 'leaves_dissected', text = 'Are the leaves dissected?')\n",
    "leaves_margins_entire=questions(attribute = 'leaves_margins_entire', text = 'Are leaves\\' margins smooth?')\n",
    "leaves_margins_serrate=questions(attribute = 'leaves_margins_serrate', text = 'Are leaves\\' margins serrate?')\n",
    "leaves_margins_undulate=questions(attribute = 'leaves_margins_undulate', text = 'Are leaves\\' margins undulate?')\n",
    "leaves_margins_lobed=questions(attribute = 'leaves_margins_lobed', text = 'Are leaves\\' margins lobed?')\n",
    "venation_parallel=questions(attribute = 'venation_parallel', text = 'Do the leaves have parallel venation?')\n",
    "venation_palmated=questions(attribute = 'venation_palmated', text = 'Do the leaves have palmated venation?')\n",
    "venation_pinnately_net=questions(attribute = 'venation_pinnately_net', text = 'Are the leaves pinnately net-veined?')\n",
    "stem_opposite=questions(attribute = 'stem_opposite', text = 'Are the leaf stem arrangements opposite?')\n",
    "stem_alternate=questions(attribute = 'stem_alternate', text = 'Are the leaf stem arrangements alternate?')\n",
    "stem_whorled=questions(attribute = 'stem_whorled', text = 'Are the leaf stem arrangements whorled?')\n",
    "no_stem_arrangement=questions(attribute = 'no_stem_arrangement', text = 'Is this no stem leaf arrangement (just single leaves)?')"
   ]
  },
  {
   "cell_type": "code",
   "execution_count": null,
   "metadata": {},
   "outputs": [],
   "source": [
    "def eval_comp(user_answer,sign,numb):\n",
    "        if sign == '<=':\n",
    "            return user_answer<=numb;\n",
    "        elif sign == '<':\n",
    "            return user_answer <numb;\n",
    "        elif sign == '=':\n",
    "            return user_answer ==numb\n",
    "        elif sign == '>':\n",
    "            return user_answer >numb;\n",
    "        elif sign == '>=':\n",
    "            return user_answer>=numb;"
   ]
  },
  {
   "cell_type": "code",
   "execution_count": 1,
   "metadata": {},
   "outputs": [
    {
     "name": "stderr",
     "output_type": "stream",
     "text": [
      "[INFO   ] [Logger      ] Record log in /home/ekatzolo/.kivy/logs/kivy_20-07-11_19.txt\n",
      "[INFO   ] [Kivy        ] v1.11.1\n",
      "[INFO   ] [Kivy        ] Installed at \"/home/ekatzolo/miniconda3/envs/py_graphics/lib/python3.7/site-packages/kivy/__init__.py\"\n",
      "[INFO   ] [Python      ] v3.7.7 (default, Mar 26 2020, 15:48:22) \n",
      "[GCC 7.3.0]\n",
      "[INFO   ] [Python      ] Interpreter at \"/home/ekatzolo/miniconda3/envs/py_graphics/bin/python\"\n",
      "[INFO   ] [Factory     ] 184 symbols loaded\n",
      "[INFO   ] [Image       ] Providers: img_tex, img_dds, img_sdl2, img_pil, img_gif (img_ffpyplayer ignored)\n",
      "[INFO   ] [Text        ] Provider: sdl2\n",
      "[INFO   ] [Window      ] Provider: sdl2(['window_egl_rpi'] ignored)\n",
      "[INFO   ] [GL          ] Using the \"OpenGL\" graphics system\n",
      "[INFO   ] [GL          ] Backend used <sdl2>\n",
      "[INFO   ] [GL          ] OpenGL version <b'3.0 Mesa 19.2.8'>\n",
      "[INFO   ] [GL          ] OpenGL vendor <b'Intel Open Source Technology Center'>\n",
      "[INFO   ] [GL          ] OpenGL renderer <b'Mesa DRI Intel(R) UHD Graphics (Whiskey Lake 3x8 GT2) '>\n",
      "[INFO   ] [GL          ] OpenGL parsed version: 3, 0\n",
      "[INFO   ] [GL          ] Shading version <b'1.30'>\n",
      "[INFO   ] [GL          ] Texture max size <16384>\n",
      "[INFO   ] [GL          ] Texture max units <32>\n",
      "[INFO   ] [Window      ] auto add sdl2 input provider\n",
      "[INFO   ] [Window      ] virtual keyboard not allowed, single mode, not docked\n"
     ]
    }
   ],
   "source": [
    "import kivy"
   ]
  },
  {
   "cell_type": "code",
   "execution_count": 2,
   "metadata": {},
   "outputs": [],
   "source": [
    "from kivy.app import App\n",
    "from kivy.uix.label import Label\n",
    "from kivy.uix.gridlayout import GridLayout\n",
    "from kivy.uix.textinput import TextInput\n",
    "from kivy.uix.togglebutton import ToggleButton\n",
    "from kivy.uix.button import Button\n",
    "from kivy.uix.screenmanager import ScreenManager, Screen"
   ]
  },
  {
   "cell_type": "code",
   "execution_count": 3,
   "metadata": {},
   "outputs": [],
   "source": [
    "class QuestionGrid(GridLayout):\n",
    "    def __init__(self,question,answers_list,**kwargs):\n",
    "        super(QuestionGrid,self).__init__(**kwargs)\n",
    "        self.cols=1\n",
    "        \n",
    "        self.question_grid = GridLayout()\n",
    "        self.question_grid.cols = 2\n",
    "        self.add_widget(Label(text = question.text, font_size = 40))\n",
    "        self.yesbtn = ToggleButton(text='Yes', group='ans')\n",
    "        self.nobtn = ToggleButton(text='No', group='ans')\n",
    "        self.question_grid.add_widget(self.yesbtn)\n",
    "        self.question_grid.add_widget(self.nobtn)\n",
    "        \n",
    "        self.submit = Button(text = 'Next Question', font_size = 30)\n",
    "        self.submit.bind(on_press = self.pressed)\n",
    "        self.add_widget(self.question_grid)\n",
    "        self.add_widget(self.submit)\n",
    "    def pressed(self,instance):\n",
    "        if self.yesbtn.state == 'down':\n",
    "            self.answer = 1\n",
    "        elif self.nobtn.state == 'down':\n",
    "            self.answer = 0\n",
    "        print(self.answer)\n",
    "        answers_list.append(self.answer)\n",
    "        "
   ]
  },
  {
   "cell_type": "code",
   "execution_count": 5,
   "metadata": {},
   "outputs": [],
   "source": [
    "class QuestionScreen(Screen):\n",
    "    def __init__(self,**kwargs):\n",
    "        self.add_widget(QuestionGrid(question = question))\n",
    "class ResultScreen(Screen):\n",
    "    pass"
   ]
  },
  {
   "cell_type": "code",
   "execution_count": 4,
   "metadata": {},
   "outputs": [],
   "source": [
    "sm = ScreenManager()\n",
    "sm.add_widget(QuestionScreen())\n",
    "sm.add_widget(ResultScreen)"
   ]
  },
  {
   "cell_type": "code",
   "execution_count": null,
   "metadata": {},
   "outputs": [],
   "source": [
    "sm.current = #change the screen"
   ]
  },
  {
   "cell_type": "code",
   "execution_count": null,
   "metadata": {},
   "outputs": [],
   "source": [
    "class MyApp(App):\n",
    "    def build(self):\n",
    "        return sm #QuestionGrid()"
   ]
  },
  {
   "cell_type": "code",
   "execution_count": null,
   "metadata": {},
   "outputs": [],
   "source": [
    "if __name__ == \"__main__\":\n",
    "    MyApp().run()"
   ]
  },
  {
   "cell_type": "code",
   "execution_count": null,
   "metadata": {},
   "outputs": [],
   "source": []
  }
 ],
 "metadata": {
  "kernelspec": {
   "display_name": "Python 3",
   "language": "python",
   "name": "python3"
  },
  "language_info": {
   "codemirror_mode": {
    "name": "ipython",
    "version": 3
   },
   "file_extension": ".py",
   "mimetype": "text/x-python",
   "name": "python",
   "nbconvert_exporter": "python",
   "pygments_lexer": "ipython3",
   "version": "3.7.7"
  }
 },
 "nbformat": 4,
 "nbformat_minor": 4
}
