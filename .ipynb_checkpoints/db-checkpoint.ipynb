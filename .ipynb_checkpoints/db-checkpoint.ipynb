{
 "cells": [
  {
   "cell_type": "code",
   "execution_count": 1,
   "metadata": {},
   "outputs": [],
   "source": [
    "import mysql.connector"
   ]
  },
  {
   "cell_type": "markdown",
   "metadata": {},
   "source": [
    "plants_db = mysql.connector.connect(\n",
    "  host='localhost',\n",
    "  user='root'\n",
    ")\n",
    "\n",
    "mycursor = plants_db.cursor()\n",
    "\n",
    "mycursor.execute(\"CREATE DATABASE plants_database\")\n",
    "\n",
    "mycursor.execute(\"CREATE TABLE plants \n",
    "                 (name VARCHAR(255), \n",
    "                  latin_name VARCHAR(255), \n",
    "                  plant_type ENUM('tree', 'creeper', 'bush', 'grass', 'swamp', 'water'), \n",
    "                  flowers ENUM('single', 'florets', 'no'), \n",
    "                  colour ENUM('yellow', 'pink', 'red', 'white', 'other'), \n",
    "                  surface ENUM('smooth', 'thorny', 'frivolous', 'other'),\n",
    "                  height FLOAT,\n",
    "                  smell ENUM('strong pleasant', 'strong unpleasant', 'mild', 'no'),\n",
    "                  leaf_structure ENUM('whole', 'lobed', 'divided', 'dissected'),\n",
    "                  leaf_margins ENUM('entire', 'serrate', 'undulate', 'lobed'),\n",
    "                  leaf_venation ENUM('parallel', 'palmated', 'pinnately net-veined'),\n",
    "                  leaf_stem ENUM('opposite', 'alternated', 'whorled'),\n",
    "                  is_invasive BOOLEAN, \n",
    "                  is_eu_invasive BOOLEAN)\n",
    "                \")"
   ]
  },
  {
   "cell_type": "code",
   "execution_count": 21,
   "metadata": {},
   "outputs": [],
   "source": [
    "class plant:\n",
    "    def __init__(self,\n",
    "                 name,\n",
    "                 latin_name,\n",
    "                 plant_type,\n",
    "                 flowers,\n",
    "                 colour,\n",
    "                 surface,\n",
    "                 height,\n",
    "                 smell,\n",
    "                 leaf_structure,\n",
    "                 leaf_margins,\n",
    "                 leaf_venation,\n",
    "                 leaf_stem,\n",
    "                 is_invasive,\n",
    "                 is_eu_invasive):\n",
    "        self.name = name\n",
    "        self.latin_name = latin_name\n",
    "        self.plant_type = plant_type\n",
    "        self.flowers = flowers\n",
    "        self.colour = colour\n",
    "        self.height = height\n",
    "        self.smell = smell\n",
    "        self.leaf_structure = leaf_structure\n",
    "        self.leaf_structure = leaf_margins\n",
    "        self.leaf_venation = leaf_venation\n",
    "        self.leaf_stem = leaf_stem\n",
    "        self.is_invasive = is_invasive\n",
    "        self.is_eu_invasive = is_eu_invasive"
   ]
  },
  {
   "cell_type": "code",
   "execution_count": 25,
   "metadata": {},
   "outputs": [],
   "source": [
    "oak = plant('oak', 'oak but in a latin', 'tree', 'no','no', 'no', 'smooth', 'tall', 'whole', 'oblate','palmated', 'single', False, False)"
   ]
  },
  {
   "cell_type": "code",
   "execution_count": null,
   "metadata": {},
   "outputs": [],
   "source": []
  }
 ],
 "metadata": {
  "kernelspec": {
   "display_name": "Python 3",
   "language": "python",
   "name": "python3"
  },
  "language_info": {
   "codemirror_mode": {
    "name": "ipython",
    "version": 3
   },
   "file_extension": ".py",
   "mimetype": "text/x-python",
   "name": "python",
   "nbconvert_exporter": "python",
   "pygments_lexer": "ipython3",
   "version": "3.7.7"
  }
 },
 "nbformat": 4,
 "nbformat_minor": 4
}
