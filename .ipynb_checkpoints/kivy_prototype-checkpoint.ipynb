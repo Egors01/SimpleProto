{
 "cells": [
  {
   "cell_type": "code",
   "execution_count": 1,
   "metadata": {},
   "outputs": [
    {
     "name": "stderr",
     "output_type": "stream",
     "text": [
      "[INFO   ] [Logger      ] Record log in /home/ekatzolo/.kivy/logs/kivy_20-07-12_0.txt\n",
      "[INFO   ] [Kivy        ] v1.11.1\n",
      "[INFO   ] [Kivy        ] Installed at \"/home/ekatzolo/miniconda3/envs/py_graphics/lib/python3.7/site-packages/kivy/__init__.py\"\n",
      "[INFO   ] [Python      ] v3.7.7 (default, Mar 26 2020, 15:48:22) \n",
      "[GCC 7.3.0]\n",
      "[INFO   ] [Python      ] Interpreter at \"/home/ekatzolo/miniconda3/envs/py_graphics/bin/python\"\n",
      "[INFO   ] [Factory     ] 184 symbols loaded\n",
      "[INFO   ] [Image       ] Providers: img_tex, img_dds, img_sdl2, img_pil, img_gif (img_ffpyplayer ignored)\n",
      "[INFO   ] [Text        ] Provider: sdl2\n"
     ]
    }
   ],
   "source": [
    "import kivy"
   ]
  },
  {
   "cell_type": "code",
   "execution_count": 2,
   "metadata": {},
   "outputs": [],
   "source": [
    "from kivy.app import App\n",
    "from kivy.uix.label import Label\n",
    "from kivy.uix.gridlayout import GridLayout\n",
    "from kivy.uix.textinput import TextInput\n",
    "from kivy.uix.togglebutton import ToggleButton\n",
    "from kivy.uix.button import Button\n",
    "from kivy.uix.screenmanager import ScreenManager, Screen"
   ]
  },
  {
   "cell_type": "code",
   "execution_count": 3,
   "metadata": {},
   "outputs": [],
   "source": [
    "class QuestionGrid(GridLayout):\n",
    "    def __init__(self,question,answers_list,**kwargs):\n",
    "        super(QuestionGrid,self).__init__(**kwargs)\n",
    "        self.cols=1\n",
    "        \n",
    "        self.question_grid = GridLayout()\n",
    "        self.question_grid.cols = 2\n",
    "        self.add_widget(Label(text = question.text, font_size = 40))\n",
    "        self.yesbtn = ToggleButton(text='Yes', group='ans')\n",
    "        self.nobtn = ToggleButton(text='No', group='ans')\n",
    "        self.question_grid.add_widget(self.yesbtn)\n",
    "        self.question_grid.add_widget(self.nobtn)\n",
    "        \n",
    "        self.submit = Button(text = 'Next Question', font_size = 30)\n",
    "        self.submit.bind(on_press = self.pressed)\n",
    "        self.add_widget(self.question_grid)\n",
    "        self.add_widget(self.submit)\n",
    "    def pressed(self,instance):\n",
    "        if self.yesbtn.state == 'down':\n",
    "            self.answer = 1\n",
    "        elif self.nobtn.state == 'down':\n",
    "            self.answer = 0\n",
    "        #print(self.answer)\n",
    "        answers_list.append(self.answer)\n",
    "        question = tree.next()"
   ]
  },
  {
   "cell_type": "code",
   "execution_count": 4,
   "metadata": {},
   "outputs": [],
   "source": [
    "class MyApp(App):\n",
    "    def build(self):\n",
    "        return QuestionGrid()"
   ]
  },
  {
   "cell_type": "code",
   "execution_count": null,
   "metadata": {},
   "outputs": [],
   "source": [
    "if __name__ == \"__main__\":\n",
    "    MyApp().run()"
   ]
  },
  {
   "cell_type": "code",
   "execution_count": null,
   "metadata": {},
   "outputs": [],
   "source": []
  }
 ],
 "metadata": {
  "kernelspec": {
   "display_name": "Python 3",
   "language": "python",
   "name": "python3"
  },
  "language_info": {
   "codemirror_mode": {
    "name": "ipython",
    "version": 3
   },
   "file_extension": ".py",
   "mimetype": "text/x-python",
   "name": "python",
   "nbconvert_exporter": "python",
   "pygments_lexer": "ipython3",
   "version": "3.7.7"
  }
 },
 "nbformat": 4,
 "nbformat_minor": 4
}
